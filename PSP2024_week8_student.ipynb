{
  "nbformat": 4,
  "nbformat_minor": 0,
  "metadata": {
    "colab": {
      "provenance": []
    },
    "kernelspec": {
      "name": "python3",
      "display_name": "Python 3"
    },
    "language_info": {
      "name": "python"
    }
  },
  "cells": [
    {
      "cell_type": "code",
      "execution_count": null,
      "metadata": {
        "id": "l_jt5pjuIKIp"
      },
      "outputs": [],
      "source": [
        "import scipy\n",
        "from scipy import stats\n",
        "import numpy as np\n",
        "import matplotlib.pyplot as plt\n",
        "import seaborn as sns"
      ]
    },
    {
      "cell_type": "markdown",
      "source": [
        "# 1\n",
        "$X, Y\\overset{iid}{\\sim}\\text{Exp}(\\lambda)$ and consider the transformation $U=X, V=X+Y$.\n",
        "1. Plot the estimated joint pdf of $(X, Y)$ and $(U, V)$.\n",
        "2. Plot the estimated marginals of $U$ and $V$.\n",
        "3. Plot the estimated conditional density of $U|V=a$ for $a=0.2, a=0.6, a=1$."
      ],
      "metadata": {
        "id": "yeX24OSBsYtR"
      }
    },
    {
      "cell_type": "code",
      "source": [
        "# generate data: X and Y\n",
        "l = 6\n",
        "X = Y =\n",
        "x =\n",
        "y ="
      ],
      "metadata": {
        "id": "1QCGlhHp48Qg"
      },
      "execution_count": null,
      "outputs": []
    },
    {
      "cell_type": "code",
      "source": [
        "# 1. Plot the joint density of (X, Y)\n",
        "# Since this time we have samples and not functions, instead of using the tools of last week (3D plots and contourf),\n",
        "# we can simply use the hist2d function of matplotlib with plots heatmaps in 2D.\n",
        "plt.hist2d(...)\n",
        "plt.colorbar()\n",
        "plt.xlabel(\"x\")\n",
        "plt.ylabel(\"y\")"
      ],
      "metadata": {
        "id": "QzIoWLzw5Po5"
      },
      "execution_count": null,
      "outputs": []
    },
    {
      "cell_type": "code",
      "source": [
        "# 1. Plot the joint density of (U, V)\n",
        "\n",
        "plt.colorbar()\n",
        "plt.xlabel(\"u\")\n",
        "plt.ylabel(\"v\")"
      ],
      "metadata": {
        "id": "tPCistrt5Vwd"
      },
      "execution_count": null,
      "outputs": []
    },
    {
      "cell_type": "code",
      "source": [
        "# 2 For the marginals, we can simply use our good old friend, the histogram\n",
        "\n",
        "plt.title('Estimated pdf of V')\n",
        "plt.show()\n",
        "\n",
        "\n",
        "plt.title('Estimated pdf of U')\n",
        "plt.show()"
      ],
      "metadata": {
        "id": "5mVZiDc95v8n"
      },
      "execution_count": null,
      "outputs": []
    },
    {
      "cell_type": "code",
      "source": [
        "# 2 (bonus)\n",
        "# The seaborn library is a useful one for \"data science\" visualisations.\n",
        "# in particular, the joint plot puts together the joint and marginals\n",
        "sns.jointplot(x=u, y=v, kind='scatter', marginal_ticks=True) # scatter does a scatter plot (points) for the joint and\n",
        "sns.jointplot(x=u, y=v, kind='hist', marginal_ticks=True) # this uses a heatmap like histogram\n",
        "sns.jointplot(x=u, y=v, kind='kde', marginal_ticks=True) # this approximates the joint and marginals using kernel desnity estimation\n",
        "plt.show()"
      ],
      "metadata": {
        "id": "0KKzCDAT6ERH"
      },
      "execution_count": null,
      "outputs": []
    },
    {
      "cell_type": "code",
      "source": [
        "# 3.\n",
        "# We want to compute the conditional density in a = 0.2: how can we do it?\n"
      ],
      "metadata": {
        "id": "G2J5_4vo8FHg"
      },
      "execution_count": null,
      "outputs": []
    },
    {
      "cell_type": "code",
      "source": [
        "# let's put this in a function\n",
        "def plot_conditional_u_using_near_data(ax, v_value, V, u, c, eps=0.01):\n",
        "    min_u, max_u = np.min(u), np.max(u)\n",
        "    u_grid = np.linspace(min_u, max_u, 20)\n",
        "    ax.plot(\n",
        "        u_grid,\n",
        "        1/v_value * np.ones(len(u_grid)),\n",
        "        \"--\",\n",
        "        color=c,\n",
        "        label=f\"theoretical $f(u | v = {v_value})$\",\n",
        "    )\n",
        "    ax.hist(\n",
        "        y[(V < v_value + eps) & (V > v_value - eps)],\n",
        "        alpha=0.3,\n",
        "        bins=u_grid,\n",
        "        density=True,\n",
        "        color=c,\n",
        "        label=f\"estimated $f(u | v = {v_value})$ using near data\",\n",
        "    )\n",
        "\n",
        "fig, ax = plt.subplots(figsize=(10, 3))\n",
        "plot_conditional_u_using_near_data(ax=ax, v_value=0.2, V=v, u=u, c=\"C1\")\n",
        "plot_conditional_u_using_near_data(ax=ax, v_value=0.6, V=v, u=u, c=\"C2\")\n",
        "plot_conditional_u_using_near_data(ax=ax, v_value=1, V=v, u=u, c=\"C3\")\n",
        "ax.set_title(\"Conditional density of U given V=a\")\n",
        "ax.set_xlabel(\"u\")\n",
        "ax.legend()\n",
        "plt.tight_layout()"
      ],
      "metadata": {
        "id": "IKZ9wuAmDNfV"
      },
      "execution_count": null,
      "outputs": []
    }
  ]
}
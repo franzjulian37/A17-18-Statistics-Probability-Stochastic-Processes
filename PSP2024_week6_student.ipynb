{
  "nbformat": 4,
  "nbformat_minor": 0,
  "metadata": {
    "colab": {
      "provenance": []
    },
    "kernelspec": {
      "name": "python3",
      "display_name": "Python 3"
    },
    "language_info": {
      "name": "python"
    }
  },
  "cells": [
    {
      "cell_type": "code",
      "execution_count": null,
      "metadata": {
        "id": "-gQgufSwJwhk"
      },
      "outputs": [],
      "source": [
        "import math # math is used to perform some computations like factorial or binomial coefficient\n",
        "from scipy import stats  # library for stats stuff, for example random variables\n",
        "import numpy as np # library for scientific computing (dealing with arrays)\n",
        "import matplotlib.pyplot as plt # library to plot"
      ]
    },
    {
      "cell_type": "markdown",
      "source": [
        "# Transformation of random variables\n",
        "Consider the r.v. $X\\sim Exp(1/\\theta)$ and its transformation $Y=\\log(X)$.\n",
        "\n",
        "1.   Find the pdf of Y\n",
        "2.   Find $\\mathbb{P}(Y>0)$\n",
        "3.   Find the median of $Y$"
      ],
      "metadata": {
        "id": "Ijq5rFQHJg0j"
      }
    },
    {
      "cell_type": "code",
      "source": [
        "theta = 2\n",
        "\n",
        "# define the exponential random variable using stats.expon. Pay attention to the parameters! https://docs.scipy.org/doc/scipy/reference/generated/scipy.stats.expon.html\n",
        "X =\n",
        "\n",
        "x = X.rvs(1000) # sample from X 1000 values\n",
        "\n",
        "# let's plot the histogram of x using plt.hist\n",
        "# set the number of bins=25\n",
        "# you want this histogram to represent probabilities and not frequencies (find the argument that does this in the documentation of the function)\n",
        "plt.hist( )"
      ],
      "metadata": {
        "id": "0_qxj63voUbR"
      },
      "execution_count": null,
      "outputs": []
    },
    {
      "cell_type": "code",
      "source": [
        "# instead of doing this empirically (by sampling 1000 values and then computing the histogram) we could directly use the pdf method of random variables\n",
        "# X.pdf(x0) computes the pdf value corresponding to x0.\n",
        "# since we want to plot the pdf, we need to compute the pdf on a vector of values (so x0 is going to be an array and not a scalar)\n",
        "# looking at the previous figure, it makes sense to choose an array x0 that spans 0 to 15.\n",
        "# To get it, we will use the np.arange (we already met this function!)\n",
        "# specifying start, stop and step\n",
        "x0 = np.arange(start=0, stop=15, step=0.2) # start, stop and steps don't need the keyword (but they need to follow this order!), but for clarity we will add them\n",
        "y0 =\n",
        "print(x0)\n",
        "print(y0)"
      ],
      "metadata": {
        "id": "FL4ziawfuWra"
      },
      "execution_count": null,
      "outputs": []
    },
    {
      "cell_type": "code",
      "source": [
        "# now we have both the histogram and the precise values of the pdf, so we can overlay them to check the empirical version vs the theory\n",
        "plt.hist(x, bins=25, density=True, label='empirical')\n",
        "# to plot the line, we use plt.plot()\n",
        "# fill in the following line with the correct values of x and y\n",
        "plt.plot(..., color='orange', label='theory')\n",
        "plt.legend() # this command adds the legend on the plot"
      ],
      "metadata": {
        "id": "TSM4ksbQurot"
      },
      "execution_count": null,
      "outputs": []
    },
    {
      "cell_type": "markdown",
      "source": [
        "## PDF of Y\n",
        "Let's plot the theoretical density function that we found on paper vs an estimate that we can get by sampling some values of y\n"
      ],
      "metadata": {
        "id": "9AyARPtN94b8"
      }
    },
    {
      "cell_type": "code",
      "source": [
        "# let's compute 1000 values sampled from the r.v. log(X) by using the vector of samples x\n",
        "y ="
      ],
      "metadata": {
        "id": "Z8zSoFos991f"
      },
      "execution_count": null,
      "outputs": []
    },
    {
      "cell_type": "code",
      "source": [
        "# since we want to plot a function, we will compute a bunch of its values. Again, to specify the x axis values we need np.arange()\n",
        "y_vector = np.arange(-6, 3, 0.05)\n",
        "f_y_vector = np.exp(- np.exp(y_vector) / theta + y_vector) / theta # this is the function we computed on paper"
      ],
      "metadata": {
        "id": "agrq5IfB-I3V"
      },
      "execution_count": null,
      "outputs": []
    },
    {
      "cell_type": "code",
      "source": [
        "# plot histogram vs theory, as we did before\n",
        "plt.hist(y, bins=25, density=True, label='empirical')\n",
        "plt.plot(y_vector, f_y_vector, label='theory', color='orange')\n",
        "plt.legend()"
      ],
      "metadata": {
        "id": "FGa1qx71-sTR"
      },
      "execution_count": null,
      "outputs": []
    },
    {
      "cell_type": "markdown",
      "source": [
        "## $\\mathbb{P}(Y>0)$"
      ],
      "metadata": {
        "id": "yubXOgdDv1Kh"
      }
    },
    {
      "cell_type": "code",
      "source": [
        "# estimate empirically P(Y>0) using the vector y computed in the previous point\n",
        "print( )"
      ],
      "metadata": {
        "id": "UijRYQyd9Ycc"
      },
      "execution_count": null,
      "outputs": []
    },
    {
      "cell_type": "code",
      "source": [
        "# theory value (computed on paper)\n",
        "np.exp(-1/theta)"
      ],
      "metadata": {
        "id": "BFWyhjLGvA_K"
      },
      "execution_count": null,
      "outputs": []
    },
    {
      "cell_type": "code",
      "source": [
        "# we can also use the CDF method of the r.v. X to obtain the exact answer:\n",
        "# P(Y>0) = 1-P(log(X)<=0) = 1-P(X<=exp(0))\n"
      ],
      "metadata": {
        "id": "ztE9LJEM9H-u"
      },
      "execution_count": null,
      "outputs": []
    },
    {
      "cell_type": "markdown",
      "source": [
        "## Median of $Y$"
      ],
      "metadata": {
        "id": "igfP8EARwJMl"
      }
    },
    {
      "cell_type": "code",
      "source": [
        "# compute the empirical median of Y\n"
      ],
      "metadata": {
        "id": "HDlmkVIwwDTG"
      },
      "execution_count": null,
      "outputs": []
    },
    {
      "cell_type": "code",
      "source": [
        "# compute the theoretical value\n",
        "np.log(theta*np.log(2))"
      ],
      "metadata": {
        "id": "MXtPNVDqwLdh"
      },
      "execution_count": null,
      "outputs": []
    },
    {
      "cell_type": "code",
      "source": [
        "# if we want to pass from X we need to find the value y_med such that\n",
        "# P(Y>y_med) = 1-P(X<=exp(y_med)) = 0.5\n",
        "# which means equivalently P(X<=exp(y_med)) = 0.5\n",
        "# this can be found using the ppf (percent point function, the inverse of the cdf)\n",
        "a =\n",
        "# now a = exp(y_med), therefore\n",
        "y_med =\n",
        "print(y_med)"
      ],
      "metadata": {
        "id": "A5e859a8Bz6S"
      },
      "execution_count": null,
      "outputs": []
    },
    {
      "cell_type": "code",
      "source": [
        "# plot the histogram of y, the line representing its pdf\n",
        "plt.hist(y, bins=25, density=True, color='blue', histtype='step') # I am using the argument histtype='step' to have no coloured filling inside the histogram, you'll see why\n",
        "plt.plot(y_vector, f_y_vector, color='orange')\n",
        "# on top of these plots the vertical lines that represent the empirical and theoretical medians\n",
        "# to plot vertical lines, in python we can use plt.axvline(x=...), where the first argument is the x value that identifies the line\n",
        "# if you were to plot an horizontal line, you could use plt.axhline(y=...)\n",
        "plt.axvline(x=np.median(y), linewidth=3, color='blue', label='empirical') # I am using the command linewidth=3 to have a thicker line, in case the two vertical lines overlap too much\n",
        "plt.axvline(x=np.log(theta*np.log(2)), color='orange', label='theory')\n",
        "plt.legend()"
      ],
      "metadata": {
        "id": "pQQuyJ3QwhFi"
      },
      "execution_count": null,
      "outputs": []
    }
  ]
}
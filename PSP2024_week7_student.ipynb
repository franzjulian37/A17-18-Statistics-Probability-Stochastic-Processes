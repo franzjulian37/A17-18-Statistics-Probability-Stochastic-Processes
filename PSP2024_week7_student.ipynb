{
  "nbformat": 4,
  "nbformat_minor": 0,
  "metadata": {
    "colab": {
      "provenance": []
    },
    "kernelspec": {
      "name": "python3",
      "display_name": "Python 3"
    },
    "language_info": {
      "name": "python"
    }
  },
  "cells": [
    {
      "cell_type": "code",
      "execution_count": null,
      "metadata": {
        "id": "l_jt5pjuIKIp"
      },
      "outputs": [],
      "source": [
        "import scipy\n",
        "from scipy import stats\n",
        "import numpy as np\n",
        "import matplotlib.pyplot as plt\n",
        "from matplotlib import cbook, cm\n",
        "from matplotlib.colors import LightSource"
      ]
    },
    {
      "cell_type": "code",
      "source": [
        "# let's see how we can access the sizes of a matrix\n",
        "a = np.zeros((3, 4))\n",
        "print(a.shape[0])\n",
        "print(a.shape[1])"
      ],
      "metadata": {
        "id": "Gh44RP1Srt2H"
      },
      "execution_count": null,
      "outputs": []
    },
    {
      "cell_type": "markdown",
      "source": [
        "# 1 Joinf and marginal pdf\n",
        "Consider the joint pfd $f(x,y)=2e^{x+y}$ if $x\\le y\\le 0$ and $f(x,y)=0$ otherwise.\n",
        "1. Plot $f(x,y)$ using the `plot_surface` from matplotlib.\n",
        "2. Plot the marginals $f_X(x)$, $f_Y(y)$."
      ],
      "metadata": {
        "id": "7_07E9zRpF14"
      }
    },
    {
      "cell_type": "code",
      "source": [
        "# first, we need to define over which values of x and y we are going to produce the plot\n",
        "x = np.arange(-3, 0, 0.2)\n",
        "y = np.arange(-3, 0, 0.1)\n",
        "# if you prefer to specify how many steps (and not the size of the step) it has to have, you can use np.linspace(-3, 0, 50)\n",
        "\n",
        "# let's go on with our first function definition! We want a function that, given x and y, return f_XY\n",
        "def\n",
        "\n",
        "# now, we need to compute the value z = f_XY(x, y) for all possible pairs of x, y.\n",
        "# To specify the x and y axes, we need to work with a grid. In python, this is done using meshgrid (let's look at this together)\n",
        "# https://numpy.org/doc/stable/reference/generated/numpy.meshgrid.html\n",
        "X, Y = np.meshgrid(x, y)"
      ],
      "metadata": {
        "id": "A2Adoc85JzzT"
      },
      "execution_count": null,
      "outputs": []
    },
    {
      "cell_type": "code",
      "source": [
        "# using the meshgrid, we can\n",
        "# create a matrix Z with dimension len(x), len(y) that has in position i, j the output of f_XY(x[i], y[j])\n",
        "Z = np.zeros()"
      ],
      "metadata": {
        "id": "0nKiRZkfsxIl"
      },
      "execution_count": null,
      "outputs": []
    },
    {
      "cell_type": "code",
      "source": [
        "# Plotting\n",
        "# For this 3d plot, we will use plot_surface\n",
        "# https://matplotlib.org/stable/api/_as_gen/mpl_toolkits.mplot3d.axes3d.Axes3D.plot_surface.html#mpl_toolkits.mplot3d.axes3d.Axes3D.plot_surface\n",
        "# Python needs some commands to run this plot (and non super standards plots in general). It's the grammar of python, we kind of have to trust it.\n",
        "fig = plt.figure(figsize=(10, 8))\n",
        "ax = fig.add_subplot(111, projection='3d')\n",
        "# let's code the plot:\n",
        "\n",
        "# the only compulsory arguments are X, Y, Z, the rest is just aesthetic (color, color of the edges, transparency)\n",
        "\n",
        "# Labels and title\n",
        "ax.set_xlabel('X')\n",
        "ax.set_ylabel('Y')\n",
        "ax.set_zlabel('f(x, y)')\n",
        "ax.set_title('3D Plot of the Joint PDF $f(x, y) = 2e^{x+y}$ for $x \\\\leq y \\\\leq 0$')\n",
        "\n",
        "plt.show()"
      ],
      "metadata": {
        "id": "FBbGtkU3Kvy9"
      },
      "execution_count": null,
      "outputs": []
    },
    {
      "cell_type": "code",
      "source": [
        "# We could also represent this in 2d, using heatmaps. Different colors represent different values of the function f_XY\n",
        "# Plotting the heatmap\n",
        "plt.figure(figsize=(8, 6))\n",
        "# this time we use the contourf function https://matplotlib.org/stable/api/_as_gen/matplotlib.pyplot.contourf.html\n",
        "\n",
        "plt.colorbar(label='$f(x, y)$')  # Color bar for density\n",
        "\n",
        "# Labels and title\n",
        "plt.xlabel('X')\n",
        "plt.ylabel('Y')\n",
        "plt.title('Heatmap of Joint PDF $f(x, y) = 2e^{x+y}$ for $x \\\\leq y \\\\leq 0$')\n",
        "plt.show()"
      ],
      "metadata": {
        "id": "rHNTkH3MiXGw"
      },
      "execution_count": null,
      "outputs": []
    },
    {
      "cell_type": "code",
      "source": [
        "# We could also represent this in 2d, using heatmaps. Different colors represent different values of the function f_XY\n",
        "# Plotting the heatmap\n",
        "plt.figure(figsize=(8, 6))\n",
        "# we can similarly use the contour function\n"
      ],
      "metadata": {
        "id": "vA7EllqDt1Gj"
      },
      "execution_count": null,
      "outputs": []
    },
    {
      "cell_type": "code",
      "source": [
        "# Define the marginal functions\n",
        "def f_X(x):\n",
        "\n",
        "def f_Y(y):\n",
        "\n",
        "# Calculate the marginal values\n",
        "f_X_values = np.zeros(len(x))\n",
        "f_Y_values = np.zeros(len(y))\n",
        "\n",
        "\n",
        "# Plotting both marginals on the same plot\n",
        "plt.figure(figsize=(10, 6))\n"
      ],
      "metadata": {
        "id": "GJiX39aFYYjB"
      },
      "execution_count": null,
      "outputs": []
    },
    {
      "cell_type": "markdown",
      "source": [
        "# 2 Estimate joint pdf starting from data\n",
        "If we want to estimate joint pdfs, we can do it using the hist2d function which works like a heatmap"
      ],
      "metadata": {
        "id": "sqBTKjH_uOiY"
      }
    },
    {
      "cell_type": "code",
      "source": [
        "# simulate data\n",
        "X1 = stats.norm(0, 1)"
      ],
      "metadata": {
        "id": "-Z6KtnSJkB1b"
      },
      "execution_count": null,
      "outputs": []
    },
    {
      "cell_type": "code",
      "source": [
        "# Plotting the heatmap\n"
      ],
      "metadata": {
        "id": "G4R-sXFklZxP"
      },
      "execution_count": null,
      "outputs": []
    }
  ]
}
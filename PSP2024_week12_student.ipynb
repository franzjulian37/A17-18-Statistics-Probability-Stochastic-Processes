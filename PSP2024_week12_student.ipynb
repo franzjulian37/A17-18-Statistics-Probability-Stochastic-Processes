{
  "nbformat": 4,
  "nbformat_minor": 0,
  "metadata": {
    "colab": {
      "provenance": []
    },
    "kernelspec": {
      "name": "python3",
      "display_name": "Python 3"
    },
    "language_info": {
      "name": "python"
    }
  },
  "cells": [
    {
      "cell_type": "code",
      "execution_count": null,
      "metadata": {
        "id": "VonQToYnUOEP"
      },
      "outputs": [],
      "source": [
        "import numpy as np\n",
        "import matplotlib.pyplot as plt\n",
        "from scipy import stats"
      ]
    },
    {
      "cell_type": "markdown",
      "source": [
        "# Homogeneous Markov chains\n",
        "Let $X_n$ be a Markov chain with state space $S = \\{1, 2, 3\\}$ and transition matrix `P = np.array([[0, 2/3, 1/3], [1/3, 0, 2/3], [2/3, 1/3, 0]])`.\n",
        "\n",
        "1. Find $P(X_0 =1,X_2 =3),P(X_0 +X_2 =4), P(X_0=1,X_2 =3|X_0 +X_2 =4)$\n",
        "2. Find $\\lim_{n\\to \\infty} P(X_n + X_{n+2} = 4)$"
      ],
      "metadata": {
        "id": "n6oDh1Uu-Up8"
      }
    },
    {
      "cell_type": "markdown",
      "source": [
        "1. Find $P(X_0 =1,X_2 =3),P(X_0 +X_2 =4), P(X_0=1,X_2 =3|X_0 +X_2 =4)$"
      ],
      "metadata": {
        "id": "yqH-t1o5-763"
      }
    },
    {
      "cell_type": "code",
      "source": [
        "P = np.array([[0, 2/3, 1/3], [1/3, 0, 2/3], [2/3, 1/3, 0]])\n",
        "initial_distr = [1/2, 1/2, 0]"
      ],
      "metadata": {
        "id": "ovkGGZW7UVLa"
      },
      "execution_count": null,
      "outputs": []
    },
    {
      "cell_type": "code",
      "source": [
        "num_simul =\n",
        "len_chain =\n",
        "X = np.zeros((num_simul, len_chain))\n",
        "\n",
        "states =\n",
        "\n",
        "# create the markov chain simulations\n",
        "for i in range(num_simul):\n"
      ],
      "metadata": {
        "id": "qh2MsyNEUwH8"
      },
      "execution_count": null,
      "outputs": []
    },
    {
      "cell_type": "code",
      "source": [
        "fig, axs = plt.subplots(nrows=4, ncols=1, figsize=(16, 4))\n",
        "for i in range(4):\n",
        "  axs[i].plot(X[i])"
      ],
      "metadata": {
        "id": "FIZ3wBvaYafj"
      },
      "execution_count": null,
      "outputs": []
    },
    {
      "cell_type": "code",
      "source": [
        "# find the probability that X_0 = 1 and X_2 = 3\n",
        "print()\n",
        "print(2/9)"
      ],
      "metadata": {
        "id": "I2gAbsM_FIst"
      },
      "execution_count": null,
      "outputs": []
    },
    {
      "cell_type": "code",
      "source": [
        "# find the probability that X_0 + X_2 = 4\n",
        "print()\n",
        "print(4/9)"
      ],
      "metadata": {
        "id": "nUsT2jI6GSx-"
      },
      "execution_count": null,
      "outputs": []
    },
    {
      "cell_type": "code",
      "source": [
        "# find the probability that X_0 = 1 and X_2 = 3 given that X_0 + X_2 = 4\n",
        "print()\n",
        "print(1/2)"
      ],
      "metadata": {
        "id": "VaXU8a3wGcRP"
      },
      "execution_count": null,
      "outputs": []
    },
    {
      "cell_type": "markdown",
      "source": [
        "2. Find $\\lim_{n\\to \\infty} P(X_n + X_{n+2} = 4)$\n",
        "\n",
        "How would you check empirically what is happening for a sufficiently big n?"
      ],
      "metadata": {
        "id": "tiQ5GLNU-Dim"
      }
    },
    {
      "cell_type": "code",
      "source": [
        "# let's look at the marginal distribution of the first 4 time steps\n"
      ],
      "metadata": {
        "id": "yXLowNvU7cOl"
      },
      "execution_count": null,
      "outputs": []
    },
    {
      "cell_type": "code",
      "source": [
        "# let's look at the marginal distribution of the last 4 time steps\n"
      ],
      "metadata": {
        "id": "9YkBAYAw-3d4"
      },
      "execution_count": null,
      "outputs": []
    },
    {
      "cell_type": "code",
      "source": [],
      "metadata": {
        "id": "hMAWIEbc-CV0"
      },
      "execution_count": null,
      "outputs": []
    }
  ]
}
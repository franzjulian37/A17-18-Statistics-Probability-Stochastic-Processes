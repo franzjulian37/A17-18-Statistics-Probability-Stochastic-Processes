{
  "cells": [
    {
      "cell_type": "markdown",
      "metadata": {
        "id": "a5PZ7JKGuf08"
      },
      "source": [
        "# Probability and Stochastic Processes 2024-25: **Problem Set 1**\n",
        "\n",
        "Provide a solution to the following exercises.\n",
        "\n",
        "Some rules:\n",
        "\n",
        "- You should **use the libraries that we have seen** during our tutorials. If you want to provide another solution (which uses different libraries or concepts that we have not seen together) you can do so, but you will need to ALSO write down a solution that uses the concepts seen in class. Providing more than one solution will not receive extra points.\n",
        "\n",
        "- You might need some formulas (theorems, definitions, properties...) coming from our lectures. Whenever your solution is backed up by a formula that we have seen during a lecture, write a comment citing - if available - the number of the book corresponding to this formula (for example, if you are using the theorem of continuity of probability measure, write down \"by the thm of continuity of probability measure 1.54\").\n",
        "\n",
        "- **Comment** the code explaining the passages that you followed using the # command in the code cell. Code comments are for short explanations. If you want to write a \"text-heavy\" answer, then I suggest you use a markdown cell.\n",
        "\n",
        "- The output of your code should solely be the answers to the questions (this means that you should not print extra things or plots). In general, **be tidy**!\n",
        "\n",
        "- Before you submit the notebook, be sure to **compile it** (i.e., you should run all the code before downloading your notebook, so that I can see your output and do not have to re-run it).\n",
        "\n",
        "- When you are simulating replicas of experiments, you can use the number 1000."
      ]
    },
    {
      "cell_type": "code",
      "execution_count": 21,
      "metadata": {
        "id": "2_1GvMRQuf09"
      },
      "outputs": [],
      "source": [
        "num_experiment = 1000"
      ]
    },
    {
      "cell_type": "markdown",
      "source": [
        "It might come in handy to use the `while` command. A `while` statement is used for repeated execution as long as an expression (written right after the `while` command) is true (alternatively, you can use the `break` command to exit a for loop...we have seen it in the first weeks). For an example, see below:"
      ],
      "metadata": {
        "id": "VqFXo-xbShNK"
      }
    },
    {
      "cell_type": "code",
      "source": [
        "import scipy\n",
        "from scipy import stats\n",
        "\n",
        "def assign_grade(initial_grade, p):\n",
        "  grade = initial_grade\n",
        "  reply = False\n",
        "  num_wrong_ans = 0\n",
        "  while (reply is False) and (num_wrong_ans < 3): # Python repeats this part until reply is wrong and the number of questions is less than 4\n",
        "      question = stats.randint(0, 30).rvs() # generate a random question\n",
        "      reply = stats.bernoulli(p).rvs() # reply of the student\n",
        "      grade -= (1 - reply) * (initial_grade - 18)/3 # update the grade\n",
        "      num_wrong_ans += 1\n",
        "  return grade, num_wrong_ans\n",
        "\n",
        "print(assign_grade(28, 0.1))\n",
        "print(assign_grade(28, 0.9))"
      ],
      "metadata": {
        "colab": {
          "base_uri": "https://localhost:8080/"
        },
        "id": "PXAe2WWBSYEB",
        "outputId": "80c15f5b-9fcd-4820-a920-a481184e37a3"
      },
      "execution_count": 22,
      "outputs": [
        {
          "output_type": "stream",
          "name": "stdout",
          "text": [
            "(24.666666666666668, 1)\n",
            "(28.0, 1)\n"
          ]
        }
      ]
    },
    {
      "cell_type": "markdown",
      "metadata": {
        "id": "Yqb15tTTuf09"
      },
      "source": [
        "# 1 - Minimum grade of the exam [full marks: 10]"
      ]
    },
    {
      "cell_type": "markdown",
      "metadata": {
        "id": "3JxWQEWBuf0-"
      },
      "source": [
        "The 40 students enrolled in PSP 2024 will take the exam in January. Each of them will receive a grade between 0 (I really hope nobody gets this grade) and 30.\n",
        "Let's assume that the grades are independent and identically distributed as a Truncated Normal (look this up!) with mean 23 and variance 5 and support over [0, 30] (therefore, we assume that the grades take continuous values).\n",
        "\n",
        "1. Plot the PDF and the CDF of the grade of one of the students, using the methods for random variables (i.e., do not simulate). [max 4 points]\n",
        "\n",
        "2. Design an experiment to estimate the cumulative distribution function of the minimum of the grades. Plot this empirical CDF against the theoretical CDF. [3]\n",
        "\n",
        "3. What is the probability that the minimum of the grades is less than 18? And between 18 and 20? Find both the empirical (using the simulations of point 2) and theoretical values of these probabilities. [3]"
      ]
    },
    {
      "cell_type": "code",
      "source": [
        "# Start writing your answer here..."
      ],
      "metadata": {
        "id": "aYUfhgvsuuHV"
      },
      "execution_count": null,
      "outputs": []
    },
    {
      "cell_type": "markdown",
      "metadata": {
        "id": "Af3nooK1uf0_"
      },
      "source": [
        "# 2. Calciatori Panini and best sister award [full marks: 10]\n",
        "Back in the days when Francesca was young, she and her brother collected football stickers to attach to their albums (for reference, these are called the \"Calciatori Panini Album\"). Francesca knew that her brother and 2 of his friends were obsessed with the player Alberto Gilardino. Wishing to be a very nice sister, she decided to look for 3 stickers of Gilardino that she could gift to her brother and his friends. She knew that in the album there was space for 300 players, the stickers were sold in packets of 6 cards each, and each packet costed 0.25 cents. Each player had the same probability of appearing on a sticker and in a packet you can find the same player more than once.\n",
        "\n",
        "Propose a simulation experiment that answers empirically the following questions:\n",
        "\n",
        "1. What is the average number of packets she has to buy to be elected the \"most lovely sister of the year\" as a result of finding the deesired number of stickers of Gilardino? What is the average cost? And the median cost? [4]\n",
        "\n",
        "2. Unfortunately, the mean does not tell us the full picture. Plot an estimate of the probability mass function of the number of packets she will have to buy for her gift. [2]\n",
        "\n",
        "3. Plot the distribution function of her costs. What is the probability that she will end up paying more than 80 euros to fullfill her dream? [2]\n",
        "\n",
        "4. After having done these calculations, little Francesca is a bit concerned about her expenses. What should be the probability of finding Gilardino on a sticker to know that her median expense does not exceed 4 euros? To reply to this, consider possible probabilities that range from 1/100 to 1/10 with steps of 0.01. Once you have computed the median for each of these probabilities $p$, plot $p$ vs the corresponding median and draw an horizontal line to indentify the value 4 for the median. [2]"
      ]
    },
    {
      "cell_type": "code",
      "source": [
        "# Start writing your answer here..."
      ],
      "metadata": {
        "id": "IcPXM34MuulV"
      },
      "execution_count": null,
      "outputs": []
    },
    {
      "cell_type": "markdown",
      "metadata": {
        "id": "-zNZrAC_uf1A"
      },
      "source": [
        "# 3 Let's make this bank not go bankrupt [full marks: 10]\n",
        "\n",
        "You are running a small bank which has loaned 2000 loans to its customers. You are concerned about the probability of these loans defaulting in the incoming year, so you decide to use your PSP knowledge to figure out how likely it is that, under \"normal\" conditions of the market, too many loans default.\n",
        "\n",
        "1. To start with, you assume that loans all have the same probability of defaulting in the incoming year equal to 0.005 and they all behave independently of each others. What is the expected number of defaulting loans? What is the probability than more than 1% of the loans default? To solve this, you can either simulate things numerically or give the exact answer using the methods that we have seen for random variables. [5]\n",
        "\n",
        "2. Now that you have established a baseline probability, you know that reality is a bit more complicated than that, so you want to compute the same two quantities (expected value and probability than more than 1% of the loans default) for the 2000 loans, but this time you assume that 100 of them have probability of default 0.01, 900 have probability of default 0.008 and 1000 have probability of default 0.005. You can run experiments to answer the question, but full marks will be given to an answer that uses the methods that we have seen for random variables and the distributions/theorems that we have seen during the course. [3]\n",
        "\n",
        "3. Again, we spicy it up to make it more realistic. This time, the second and third group of loans are like in point 2 (i.e. the groups with 900 and 1000 loans), but the first group of 100 loans behaves slightly differently: the first 2 loans of group 1 have probability 0.1 of defaulting and, if these first 2 loans default, then all the other 90 will default too, while if the first 2 loans do not default, then the others default independently with probability 0.01. Compute the expected number of defaulting loans and the probability than more than 1% of the loans default. For this answer, you can use a sampling method. [2]"
      ]
    },
    {
      "cell_type": "code",
      "source": [
        "# Start writing your answer here..."
      ],
      "metadata": {
        "id": "uj-PP1WyuvDE"
      },
      "execution_count": null,
      "outputs": []
    }
  ],
  "metadata": {
    "kernelspec": {
      "display_name": "Python 3",
      "language": "python",
      "name": "python3"
    },
    "language_info": {
      "codemirror_mode": {
        "name": "ipython",
        "version": 3
      },
      "file_extension": ".py",
      "mimetype": "text/x-python",
      "name": "python",
      "nbconvert_exporter": "python",
      "pygments_lexer": "ipython3",
      "version": "3.9.6"
    },
    "colab": {
      "provenance": []
    }
  },
  "nbformat": 4,
  "nbformat_minor": 0
}
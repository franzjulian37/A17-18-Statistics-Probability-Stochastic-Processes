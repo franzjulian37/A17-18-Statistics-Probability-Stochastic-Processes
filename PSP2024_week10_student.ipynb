{
  "nbformat": 4,
  "nbformat_minor": 0,
  "metadata": {
    "colab": {
      "provenance": []
    },
    "kernelspec": {
      "name": "python3",
      "display_name": "Python 3"
    },
    "language_info": {
      "name": "python"
    }
  },
  "cells": [
    {
      "cell_type": "code",
      "execution_count": null,
      "metadata": {
        "id": "8yZTP73VVRHr"
      },
      "outputs": [],
      "source": [
        "import numpy as np\n",
        "from scipy import stats\n",
        "import matplotlib.pyplot as plt\n",
        "import pandas as pd"
      ]
    },
    {
      "cell_type": "markdown",
      "source": [
        "# Joint distributions and independence on real data"
      ],
      "metadata": {
        "id": "4vpZ9DGEw_ql"
      }
    },
    {
      "cell_type": "markdown",
      "source": [
        "## Let's start using data frames with pandas\n",
        "There's a lot to know about it! https://pandas.pydata.org/docs/index.html"
      ],
      "metadata": {
        "id": "rVEjtF1JxWMO"
      }
    },
    {
      "cell_type": "code",
      "source": [
        "# upload the data on colab\n",
        "# import the data using pd.read_csv\n",
        "# caveat: when you create csv files, it matters which separator you are using for columns and rows\n",
        "# (italian and UK/US system work differently,\n",
        "# Colab goes on the US one so it uses comma separated values (the default for CSV))\n",
        "# so if you open this file with Excel on an italian computer it will not look as you expect\n",
        "XY = pd.read_csv(...)"
      ],
      "metadata": {
        "id": "TTza61Dehuds"
      },
      "execution_count": null,
      "outputs": []
    },
    {
      "cell_type": "code",
      "source": [
        "# the data represent the joint probability density of X, Y\n",
        "# where X is random variable indicating what's the favourite roman pasta\n",
        "# among the people of Rome\n",
        "# and Y represents if the person comes from Rome North or South\n",
        "XY"
      ],
      "metadata": {
        "id": "f-2G4lCnh0yl"
      },
      "execution_count": null,
      "outputs": []
    },
    {
      "cell_type": "code",
      "source": [
        "# we can extract columns (variables)\n",
        "nr = XY['North Rome']\n",
        "print(nr)\n",
        "# if we want to extract a row of this column we will use the .iloc method\n",
        "print(nr.iloc[0])"
      ],
      "metadata": {
        "id": "ELcyjVx_1owo"
      },
      "execution_count": null,
      "outputs": []
    },
    {
      "cell_type": "code",
      "source": [
        "# for pandas, rows represent different observations, so they are the index (it is not really the case here, but it does not matter!)\n",
        "# to extract the value of a row we can use .loc[name of row]\n",
        "# since carbonara is the first row, we can equivalently us .iloc[0]\n",
        "XY.loc['carbonara']\n",
        "# XY.iloc[0]"
      ],
      "metadata": {
        "id": "bJu0C33J0yMG"
      },
      "execution_count": null,
      "outputs": []
    },
    {
      "cell_type": "code",
      "source": [
        "# we can perform operations on\n",
        "XY.loc['carbonara'] + 1"
      ],
      "metadata": {
        "id": "pxGHYSXp32b0"
      },
      "execution_count": null,
      "outputs": []
    },
    {
      "cell_type": "code",
      "source": [
        "# if we prefer to work with arrays\n",
        "XY.loc['carbonara'].to_numpy() + 1"
      ],
      "metadata": {
        "id": "0QnURfZh3yOb"
      },
      "execution_count": null,
      "outputs": []
    },
    {
      "cell_type": "code",
      "source": [
        "# to extract an element\n"
      ],
      "metadata": {
        "id": "D_7LHo5X1Kiw"
      },
      "execution_count": null,
      "outputs": []
    },
    {
      "cell_type": "code",
      "source": [
        "# filter more rows\n"
      ],
      "metadata": {
        "id": "84MVQ4E-2aF5"
      },
      "execution_count": null,
      "outputs": []
    },
    {
      "cell_type": "code",
      "source": [
        "# find out if X and Y are independent\n"
      ],
      "metadata": {
        "id": "l3gTyf9IzA49"
      },
      "execution_count": null,
      "outputs": []
    },
    {
      "cell_type": "markdown",
      "source": [
        "# Check the same for being the owner of a Smart and being from Rome North or South"
      ],
      "metadata": {
        "id": "fyTzgFEG2N3C"
      }
    }
  ]
}
{
  "nbformat": 4,
  "nbformat_minor": 0,
  "metadata": {
    "colab": {
      "provenance": []
    },
    "kernelspec": {
      "name": "python3",
      "display_name": "Python 3"
    },
    "language_info": {
      "name": "python"
    }
  },
  "cells": [
    {
      "cell_type": "markdown",
      "source": [
        "# Importing libraries\n",
        "We need to import some libraries (in R these are called packages) to perform certain operations. For example, to import the library `numpy`, we can use the following commands:\n",
        "- `import numpy` and then always call `numpy.method` to call a method from this library.\n",
        "- if we are lazy, we might want to shorten up the name of the library in this way: `import numpy as np` and then use `np.method`\n",
        "- if we want to not have to use the name of the library in front of method, we might do `from random import randint` and then just use the function `randint`. Sometimes, we have to import sublibraries before methods, for example in `from scipy import stats` the word `stats` refers to [this set of statistical functions](https://docs.scipy.org/doc/scipy/reference/stats.html).\n",
        "\n",
        "Generally, if you look in the documentation of python of a certain function you will understand what you need to import (for example, [this](https://docs.scipy.org/doc/scipy/reference/generated/scipy.stats.norm.html#scipy.stats.norm) is the function in scipy to call Gaussian random variables, and it lives in `scipy stats`."
      ],
      "metadata": {
        "id": "IVVK4EsbETI7"
      }
    },
    {
      "cell_type": "code",
      "execution_count": 3,
      "metadata": {
        "id": "nFTmM2dsa8x7"
      },
      "outputs": [],
      "source": [
        "import math # math is used to perform some computations like factorial or binomial coefficient\n",
        "from scipy import stats  # an important package to do statistics\n",
        "import numpy as np # another very common package for scientific computing (dealing with array (also known as vectors) operations)\n",
        "from random import randint # we will use the function randint to toss a coin"
      ]
    },
    {
      "cell_type": "code",
      "source": [
        "print(math.factorial(20)) # computing the factorial of 20"
      ],
      "metadata": {
        "colab": {
          "base_uri": "https://localhost:8080/"
        },
        "id": "Gq3s3FRTPvVD",
        "outputId": "e70204cd-7043-4df7-83c8-0436c52ea0e9"
      },
      "execution_count": 2,
      "outputs": [
        {
          "output_type": "stream",
          "name": "stdout",
          "text": [
            "2432902008176640000\n"
          ]
        }
      ]
    },
    {
      "cell_type": "code",
      "source": [
        "print(math.comb(10, 5)) # computing combinations (n choose k) (10 choose 5)"
      ],
      "metadata": {
        "colab": {
          "base_uri": "https://localhost:8080/"
        },
        "id": "Nqh7X8a2tUub",
        "outputId": "5c17a88f-f287-4dab-a8cd-54a49f7030d5"
      },
      "execution_count": 3,
      "outputs": [
        {
          "output_type": "stream",
          "name": "stdout",
          "text": [
            "252\n"
          ]
        }
      ]
    },
    {
      "cell_type": "code",
      "source": [
        "# exponential 2^10\n",
        "print(pow(2, 10))  # Using the pow function\n",
        "print(2 ** 10)     # Using the exponentiation operator"
      ],
      "metadata": {
        "colab": {
          "base_uri": "https://localhost:8080/"
        },
        "id": "tWNYHN3HtWjX",
        "outputId": "45ca17ee-7aca-421e-dcc7-f65e121fe192"
      },
      "execution_count": 4,
      "outputs": [
        {
          "output_type": "stream",
          "name": "stdout",
          "text": [
            "1024\n",
            "1024\n"
          ]
        }
      ]
    },
    {
      "cell_type": "code",
      "source": [
        "# defining arrays\n",
        "vec = np.array((1, 2, 3))\n",
        "print(vec)"
      ],
      "metadata": {
        "colab": {
          "base_uri": "https://localhost:8080/"
        },
        "id": "-2fn44cPqfP_",
        "outputId": "747f75a9-e35f-468b-fd70-ffb7a2f86543"
      },
      "execution_count": 4,
      "outputs": [
        {
          "output_type": "stream",
          "name": "stdout",
          "text": [
            "[1 2 3]\n"
          ]
        }
      ]
    },
    {
      "cell_type": "markdown",
      "source": [
        "# For loops\n",
        "Often times we will need to repeat the same operation many times. For example, we might want to simulate different replicas of an experiment to compute a probability. To do so, programming languages often use the concept of **for loop**. In python, the construction of a for loop work like this:\n",
        "In pseudo-code terminology, a for loop of 10 iterations would be the following:\n",
        "\n",
        "```\n",
        "for i=1,...,10:\n",
        "  do something\n",
        "```\n",
        "This means that we want to repeat that \"something\" for 10 times. `i` is an index that signals at which iteration we are. In the first iteration i is =1, at the second i=2...up until i=10. Let's see an example.\n",
        "\n",
        "\n",
        "We have a vector `a` of 3 elements and we want to print its elements. To do so, in Python we would write:\n",
        "\n",
        "\n",
        "```\n",
        "a = np.array([2,4,8])\n",
        "for i in range(3):\n",
        "  print(a[i])\n",
        "print('hey, I'm outside of the for loop!')\n",
        "```\n",
        "Let's see what this is doing.\n",
        "- The first line defines the array.\n",
        "- The second sets up the for loop: `range(n)` is a function returning a sequence of numbers from `0` to `n-1`. `range(3)` is telling python that the index `i` will take up the values `i=0`, `i=1`, `i=2`.\n",
        "- In the third line, the command `a[i]` is extracting the element of index `i` inside the array `a`. `print()` is the function to print something. So at the first iteration, the code should print 2, at the second print 4 and at the third 8. We also note that there is a space between the margin and the code. This is called **indentation** and is necessary to let the programme know that everything that is indented in that way will belong to the for loop. Once the for loop is finished, we can go back to the original indentation. This use of the indentation is not just for `for` loops, but also statements. For example, we will see it later in `if...else`.\n",
        "- 4th line: let's get out of the for loop and print something.\n",
        "\n"
      ],
      "metadata": {
        "id": "kpWHMCjpGza4"
      }
    },
    {
      "cell_type": "code",
      "source": [
        "# let's run the previous example and see the output\n",
        "\n",
        "a = np.array((2,4,8))\n",
        "for i in range(3):\n",
        "  print(a[i])\n",
        "print('hey, I am outside of the for loop!')"
      ],
      "metadata": {
        "colab": {
          "base_uri": "https://localhost:8080/"
        },
        "id": "Bz6UrWDRMQan",
        "outputId": "14427e14-804a-4919-f406-7db6f7442067"
      },
      "execution_count": 6,
      "outputs": [
        {
          "output_type": "stream",
          "name": "stdout",
          "text": [
            "2\n",
            "4\n",
            "8\n",
            "hey, I am outside of the for loop!\n"
          ]
        }
      ]
    },
    {
      "cell_type": "code",
      "source": [
        "# to see exactly the value of the index changing, we can print it\n",
        "for i in range(5):\n",
        "  print(i)"
      ],
      "metadata": {
        "colab": {
          "base_uri": "https://localhost:8080/"
        },
        "id": "XQGmQBuhp-Oq",
        "outputId": "806a9ebe-4596-4750-967d-6535c3533cb4"
      },
      "execution_count": 7,
      "outputs": [
        {
          "output_type": "stream",
          "name": "stdout",
          "text": [
            "0\n",
            "1\n",
            "2\n",
            "3\n",
            "4\n"
          ]
        }
      ]
    },
    {
      "cell_type": "code",
      "source": [
        "# of course, we can also use it to perform operations\n",
        "for i in range(5):\n",
        "  print(i*2)"
      ],
      "metadata": {
        "colab": {
          "base_uri": "https://localhost:8080/"
        },
        "id": "Z_ruTPYsSUED",
        "outputId": "9b729584-641b-472e-edb2-6a9938fe1732"
      },
      "execution_count": 8,
      "outputs": [
        {
          "output_type": "stream",
          "name": "stdout",
          "text": [
            "0\n",
            "2\n",
            "4\n",
            "6\n",
            "8\n"
          ]
        }
      ]
    },
    {
      "cell_type": "markdown",
      "source": [
        "# `If else` statements\n",
        "Sometimes we will need to perform an operation only when a certain condition is satisfied. To do so, we use the commands `if else`. Let's see an example:\n",
        "```\n",
        "x = 5\n",
        "if x == 3:\n",
        "  print('x is equal to 3')\n",
        "else:\n",
        "  print('x is not 3')\n",
        "```\n",
        "Let's look at each line to understand what is happening:\n",
        "1. Defines a variable x as 5\n",
        "2. the `==` checks if x is equal to 3. If it is, then the `if` line is True and Python will go inside the if statement (in this case, the 3rd line) and perform its command.\n",
        "3. print command. Note that when we want to print a string (some text) we need to put it inside quotations ' '\n",
        "4. after having checked the `if` clause (irrespectively if it was true or false), the programme will arrive to this line. `else` means \"the complementary of the `if` statement\". In this case, `else` checks if x is different from 3. If it is, then python will move to the else statement (line 5) and perform it.\n",
        "5. another print statement.\n",
        "\n",
        "Note the indentation!"
      ],
      "metadata": {
        "id": "7xi8okm-aWAf"
      }
    },
    {
      "cell_type": "markdown",
      "source": [
        "# Exercise 1.25\n",
        "Consider a fair coin. What is the probability of obtaining exactly k heads if we toss the coin n times?\n",
        "\n",
        "In class we have computed this probability theoretically, and we know it is equal to $\\frac{1}{2^n} {n\\choose k}$.\n",
        "Here, we will compute it empirically, by repeating the experiment many times and for each time saving if the counts of heads was exactly k.\n"
      ],
      "metadata": {
        "id": "gPw9YvRLPyNv"
      }
    },
    {
      "cell_type": "code",
      "source": [
        "n = 5 # define n\n",
        "k = 2 # define k\n",
        "num_experiment = 20 # how many times we will repeat the experiment\n",
        "\n",
        "count = 0 # we will save here how many times the eperiment of tossing n coins returned k heads\n",
        "\n",
        "for i in range(num_experiment): # repeat the experiment\n",
        "  num_heads = 0 # for each experiment, we save here how many heads were found\n",
        "  for j in range(n): # for each experiment, we repeat n times the coin toss\n",
        "    coin = randint(0, 1) # randint(0, 1) returns 1 with probability 0.5 and 0 with probability 0.5. For conveniency, we assume that 1 means head\n",
        "    num_heads = num_heads + coin # if head comes out, we increment num_heads (otherwise if it was tail we are adding a 0, so nothing changes)\n",
        "    if coin == 0: # these 4 lines are just to show the output of the coin toss. Note the indentation.\n",
        "      print('T')\n",
        "    else:\n",
        "      print('H')\n",
        "  if num_heads == k: # indentation: we are out of the for loop of j because we have finished one sequence of n tosses. Let's check if num_heads is exactly k\n",
        "    count = count + 1 # if it is, then we increment count of 1\n",
        "    print('k Heads in experiment ', i)\n",
        "  else:\n",
        "    print('not k Heads in experiment ', i) # otherwise, we don't increment it and just print something."
      ],
      "metadata": {
        "colab": {
          "base_uri": "https://localhost:8080/"
        },
        "id": "d_cDt6rKDjlG",
        "outputId": "eab596c6-7e49-4768-907f-a8c905546c5d"
      },
      "execution_count": 9,
      "outputs": [
        {
          "output_type": "stream",
          "name": "stdout",
          "text": [
            "H\n",
            "T\n",
            "H\n",
            "H\n",
            "H\n",
            "not k Heads in experiment  0\n",
            "H\n",
            "H\n",
            "T\n",
            "T\n",
            "H\n",
            "not k Heads in experiment  1\n",
            "H\n",
            "H\n",
            "T\n",
            "T\n",
            "T\n",
            "k Heads in experiment  2\n",
            "T\n",
            "H\n",
            "H\n",
            "H\n",
            "T\n",
            "not k Heads in experiment  3\n",
            "H\n",
            "T\n",
            "H\n",
            "T\n",
            "H\n",
            "not k Heads in experiment  4\n",
            "H\n",
            "H\n",
            "T\n",
            "T\n",
            "T\n",
            "k Heads in experiment  5\n",
            "T\n",
            "H\n",
            "H\n",
            "H\n",
            "H\n",
            "not k Heads in experiment  6\n",
            "T\n",
            "H\n",
            "H\n",
            "T\n",
            "H\n",
            "not k Heads in experiment  7\n",
            "H\n",
            "H\n",
            "T\n",
            "T\n",
            "T\n",
            "k Heads in experiment  8\n",
            "T\n",
            "H\n",
            "T\n",
            "H\n",
            "T\n",
            "k Heads in experiment  9\n",
            "H\n",
            "T\n",
            "T\n",
            "H\n",
            "H\n",
            "not k Heads in experiment  10\n",
            "H\n",
            "T\n",
            "H\n",
            "T\n",
            "T\n",
            "k Heads in experiment  11\n",
            "H\n",
            "H\n",
            "T\n",
            "T\n",
            "T\n",
            "k Heads in experiment  12\n",
            "H\n",
            "H\n",
            "T\n",
            "H\n",
            "T\n",
            "not k Heads in experiment  13\n",
            "H\n",
            "T\n",
            "T\n",
            "T\n",
            "T\n",
            "not k Heads in experiment  14\n",
            "T\n",
            "T\n",
            "H\n",
            "T\n",
            "T\n",
            "not k Heads in experiment  15\n",
            "T\n",
            "T\n",
            "T\n",
            "T\n",
            "H\n",
            "not k Heads in experiment  16\n",
            "H\n",
            "T\n",
            "T\n",
            "T\n",
            "T\n",
            "not k Heads in experiment  17\n",
            "H\n",
            "H\n",
            "T\n",
            "T\n",
            "T\n",
            "k Heads in experiment  18\n",
            "T\n",
            "H\n",
            "H\n",
            "H\n",
            "H\n",
            "not k Heads in experiment  19\n"
          ]
        }
      ]
    },
    {
      "cell_type": "code",
      "source": [
        "empirical_probability = count / num_experiment # now we compute the empirical probability\n",
        "theoretical_probability = math.comb(n, k) / 2 ** n # this is the theoretical probability\n",
        "\n",
        "print('empirical probability', empirical_probability)\n",
        "print('theoretical probability', theoretical_probability)\n",
        "print('difference theory and empirical: ', empirical_probability - theoretical_probability)"
      ],
      "metadata": {
        "colab": {
          "base_uri": "https://localhost:8080/"
        },
        "id": "qnVLRRwhFUvS",
        "outputId": "df280b8b-57fc-4d6b-bb9f-1df8e3f8163d"
      },
      "execution_count": 10,
      "outputs": [
        {
          "output_type": "stream",
          "name": "stdout",
          "text": [
            "empirical probability 0.35\n",
            "theoretical probability 0.3125\n",
            "difference theory and empirical:  0.03749999999999998\n"
          ]
        }
      ]
    }
  ]
}
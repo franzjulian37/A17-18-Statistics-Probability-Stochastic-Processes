{
  "nbformat": 4,
  "nbformat_minor": 0,
  "metadata": {
    "colab": {
      "provenance": []
    },
    "kernelspec": {
      "name": "python3",
      "display_name": "Python 3"
    },
    "language_info": {
      "name": "python"
    }
  },
  "cells": [
    {
      "cell_type": "code",
      "execution_count": null,
      "metadata": {
        "id": "0JOEb0WEfMxs"
      },
      "outputs": [],
      "source": [
        "import math # math is used to perform some computations like factorial or binomial coefficient\n",
        "from scipy import stats  # library for stats stuff, for example random variables\n",
        "import numpy as np # package for scientific computing (dealing with arrays)"
      ]
    },
    {
      "cell_type": "code",
      "source": [
        "# for this exercise we need to know how to compute the mean of a vector\n",
        "x = np.array((1, 2, 3))\n",
        "mean_x =\n",
        "print(mean_x)"
      ],
      "metadata": {
        "id": "KlQQITGP5K8b"
      },
      "execution_count": null,
      "outputs": []
    },
    {
      "cell_type": "markdown",
      "source": [
        "# The birthday problem\n",
        "There are $k$ people in a room. Assume each birthday is equally probable to be any of the 365 days of the year and that people's birthday are independent.\n",
        "\n",
        "(a) What is the probability that at least one pair of people in the group have the same birthday?\n",
        "\n",
        "(b) What is the probability that a given pair has the same birthday?\n",
        "\n",
        "(c) If $k = 50$ what is the expected number of pairs with the same birthdays?"
      ],
      "metadata": {
        "id": "ygsN_iPKwD5C"
      }
    },
    {
      "cell_type": "code",
      "source": [
        "# set number of repetition of the experiment and a possible value for k\n",
        "num_experiment = 100\n",
        "k = 50\n",
        "\n",
        "# define the random variable from which we will sample the birthdays: a Discrete Uniform over 1...365.\n",
        "# In python, this is randint(a, b) (which can be found in scipy stats https://docs.scipy.org/doc/scipy/tutorial/stats/discrete_randint.html)\n",
        "X ="
      ],
      "metadata": {
        "id": "LWQennNpfTSG"
      },
      "execution_count": null,
      "outputs": []
    },
    {
      "cell_type": "markdown",
      "source": [
        "## a)  \n",
        "What is the probability that at least one pair of people in the group have the same birthday?"
      ],
      "metadata": {
        "id": "LY2J7m8guqJh"
      }
    },
    {
      "cell_type": "code",
      "source": [
        "# let's run the experiment. The idea is similar to the last weeks: repeat the experiment many times (for loop)\n",
        "# and each time count the successes ('at least one pair with same birthday')\n",
        "# this will mean to iterate over pairs, so we'll have to introduce the concept of nested for loops!\n",
        "\n",
        "success = 0 # initialize the variable that counts how many successes we observe (i.e., how many times we observe at least one pair with same bday)\n",
        "\n",
        "for i in  # iterate over the repetitions of the experiments\n",
        "  x =  # sample the vector of birthdays\n",
        "  count_pairs_i =  # initialize the variable which will save the success of this single experiment i\n",
        "  # iterate over the first member of the pair\n",
        "  for j in\n",
        "    # for each individual j, we need to iterate over the second member of the pair.\n",
        "    # To avoid repetitions and to avoid the pair (j, j), this person needs to start from j+1 and go up until k\n",
        "    for l in\n",
        "      same_bday =  # check if j and l have the same bday\n",
        "      count_pairs_i =  # increment result of experiment i\n",
        "  # at the end of each experiment, we need to check if we had a success of not:\n",
        "  # if the pairs in experiment i with same birthday are more than 1, then increament success:\n",
        "  if\n",
        ""
      ],
      "metadata": {
        "id": "p_Xh77jcfvIt"
      },
      "execution_count": null,
      "outputs": []
    },
    {
      "cell_type": "markdown",
      "source": [
        "PS: there's a nice pythonic way to increment a variable. Instead of\n",
        "`success = success + 1` you can use `success += 1`"
      ],
      "metadata": {
        "id": "VNVmJhpQ27vP"
      }
    },
    {
      "cell_type": "code",
      "source": [
        "empirical =\n",
        "print('empirical result', empirical)\n",
        "\n",
        "theory = 1 - math.comb(365, k) * math.factorial(k) / (365**k)\n",
        "print('theoretical result', theory)"
      ],
      "metadata": {
        "id": "qUKCfGMUg4TW"
      },
      "execution_count": null,
      "outputs": []
    },
    {
      "cell_type": "markdown",
      "source": [
        "## b)\n",
        "What is the probability that a given pair has the same birthday?"
      ],
      "metadata": {
        "id": "TskC3bL2urlQ"
      }
    },
    {
      "cell_type": "code",
      "source": [
        "# Here, we want to count the proportion of pairs in the room with the same birthday\n",
        "\n",
        "# we initialize a vector of zeros of dimension num_experiment. For each experiment we will store the counts of pairs with the same birthday for each experiment\n",
        "count_pairs = np.zeros(num_experiment)\n",
        "# we initialize a vector of zeros of dimension num_experiment. For each experiment we will save the proportion of pairs with the same birthday\n",
        "proportion_pairs =\n",
        "\n",
        "# same idea: repeat an experiment many times. This time, we don't have to save a success, but the actual number of pairs with the same birthday\n",
        "for i in range(num_experiment):\n",
        "  x = X.rvs(k) # sample bdays\n",
        "  # iterate over pairs of people\n",
        "  for j in range(k):\n",
        "    for l in range(j+1, k):\n",
        "      same_bday = (x[j] == x[l])\n",
        "      count_pairs[i] =  # increment the count if the pair has the same birthday\n",
        "  # for each experiment i we compute the proportion of pairs with the same bday as the counts divided by the total number of pairs\n",
        "  proportion_pairs[i] =\n",
        "\n",
        "# to get the empirical result we will simply take the mean of the vector proportion_pairs:\n",
        "print('empirical', )\n",
        "print('theory', 1/365)"
      ],
      "metadata": {
        "id": "b_T6MDLKunGS"
      },
      "execution_count": null,
      "outputs": []
    },
    {
      "cell_type": "markdown",
      "source": [
        "## c)\n",
        "If $k = 50$ what is the expected number of pairs with the same birthdays?"
      ],
      "metadata": {
        "id": "vVtUPIYhvf5K"
      }
    },
    {
      "cell_type": "code",
      "source": [
        "# everything we need was already computed in b)\n",
        "# we simply need to take the average of the counts of pairs with the same birthday\n",
        "print('empirical', )\n",
        "print('theory', k*(k-1)/(2*365))"
      ],
      "metadata": {
        "id": "ddyr_58PvhaM"
      },
      "execution_count": null,
      "outputs": []
    },
    {
      "cell_type": "markdown",
      "source": [
        "## Extra 1)\n",
        "#### Condensed way of solving all points together by running just one repetition of the experiments and saving/using all the right variables at the right time"
      ],
      "metadata": {
        "id": "i2MOy4wT624H"
      }
    },
    {
      "cell_type": "code",
      "source": [
        "# we initialize a vector of zeros of dimension num_experiment. For each experiment we will store the counts of pairs with the same birthday for each experiment\n",
        "count_pairs = np.zeros(num_experiment)\n",
        "# we initialize a vector of zeros of dimension num_experiment. For each experiment we will save the proportion of pairs with the same birthday\n",
        "proportion_pairs = np.zeros(num_experiment)\n",
        "for i in range(num_experiment):\n",
        "  x = X.rvs(k) # sample bdays\n",
        "  for j in range(k):\n",
        "    for l in range(j+1, k):\n",
        "      same_bday = (x[j] == x[l])\n",
        "      count_pairs[i] = count_pairs[i] + same_bday # increment the count if the pair has the same birthday\n",
        "  # for each experiment i we compute the proportion of pairs with the same bday as the counts divided by the total number of pairs\n",
        "  proportion_pairs[i] = count_pairs[i] / math.comb(k, 2)\n",
        "\n",
        "# a)\n",
        "# here we need to check if there was at least one pair with same birthday in each experiment,\n",
        "# so we iterate over all the experiments and check if count_pairs[i] > 0. If yes, I record a success.\n",
        "success = 0\n",
        "for i in range(num_experiment):\n",
        "  if count_pairs[i] > 0:\n",
        "    success += 1\n",
        "print('empirical', success / num_experiment)\n",
        "theory = 1 - math.comb(365, k) * math.factorial(k) / (365**k)\n",
        "print('theory', theory)\n",
        "\n",
        "# b)\n",
        "# to get the empirical result we will simply take the mean of the vector proportion_pairs:\n",
        "print('empirical', np.mean(proportion_pairs))\n",
        "print('theory', 1/365)\n",
        "\n",
        "# c)\n",
        "# we simply need to take the average of the counts of pairs with the same birthday\n",
        "print('empirical', np.mean(count_pairs))\n",
        "print('theory', k*(k-1)/(2*365))"
      ],
      "metadata": {
        "id": "cevBFCX8CTKb"
      },
      "execution_count": null,
      "outputs": []
    },
    {
      "cell_type": "markdown",
      "source": [
        "## Extra 2)\n",
        "#### More advanced: another, more efficient, solution for a)\n",
        "If you need to solve only a), you can do it more efficiently by using the `break` command which stops the for loop as soon as a condition is satisfied (indeed, since we are looking for 'at least one pair has the same birthday', as soon as we find one pair which has the same birthday we don't need to check all the other pairs)."
      ],
      "metadata": {
        "id": "juZWhC7iunu7"
      }
    },
    {
      "cell_type": "code",
      "source": [
        "count_at_least_onepair = 0\n",
        "for i in range(num_experiment):\n",
        "  x = X.rvs(k) # sample\n",
        "  result_experiment = 0\n",
        "  same_bday = 0\n",
        "  for j in range(k):\n",
        "    for l in range(j+1, k):\n",
        "      if x[j] == x[l]: # check if the pair has the same birthday\n",
        "        same_bday = 1 # if yes, set same_bday to 1\n",
        "        break # the break command says that you can exit the last for loop you are in (in this case, the one with index l)\n",
        "    # if you have broken the l for loop you want to exit also from the i for loop. So, check if same_bday == 1 and if yes you break the i for loop.\n",
        "    if same_bday == 1:\n",
        "      break\n",
        "  result_experiment += same_bday # equivalent to result_experiment = result_experiment + same_bday\n",
        "  if result_experiment > 0:\n",
        "    count_at_least_onepair += 1 # equivalent to count_at_least_onepair = count_at_least_onepair + 1"
      ],
      "metadata": {
        "id": "EAjBXu4ph5G1"
      },
      "execution_count": null,
      "outputs": []
    },
    {
      "cell_type": "code",
      "source": [
        "empirical = count_at_least_onepair / num_experiment\n",
        "print(empirical)\n",
        "\n",
        "theory = 1 - math.comb(365, k) * math.factorial(k) / (365**k)\n",
        "print(theory)"
      ],
      "metadata": {
        "id": "d6kxQ1Mhj6Pl"
      },
      "execution_count": null,
      "outputs": []
    }
  ]
}
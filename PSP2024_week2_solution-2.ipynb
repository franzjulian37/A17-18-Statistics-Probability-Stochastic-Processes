{
  "nbformat": 4,
  "nbformat_minor": 0,
  "metadata": {
    "colab": {
      "provenance": []
    },
    "kernelspec": {
      "name": "python3",
      "display_name": "Python 3"
    },
    "language_info": {
      "name": "python"
    }
  },
  "cells": [
    {
      "cell_type": "code",
      "execution_count": 18,
      "metadata": {
        "id": "OTmxAwbVX7S1"
      },
      "outputs": [],
      "source": [
        "import math # math is used to perform some computations like factorial or binomial coefficient\n",
        "from scipy import stats  # library for stats stuff, for example random variables\n",
        "import numpy as np # package for scientific computing (dealing with arrays)"
      ]
    },
    {
      "cell_type": "markdown",
      "source": [
        "# Exercise\n",
        "Assume that each child who is born is equally likely to be a boy or girl. If a family has two children:\n",
        "\n",
        "(a) what is the probability that both are girls given that the eldest is a girl?\n",
        "\n",
        "(b) what is the probability that both are girls given that at least one is a girl?"
      ],
      "metadata": {
        "id": "u_zM4PiVnG84"
      }
    },
    {
      "cell_type": "markdown",
      "source": [
        "Set up:\n",
        "- `num_experiment`: number of experiments,\n",
        "- `n`: number of sons/daughters (this can be alternatevely thought of as coin tosses)\n",
        "- `p`: probability of having a girl or a boy\n",
        "- `X`: Bernoulli(p)"
      ],
      "metadata": {
        "id": "Wn3i1YXNl_XA"
      }
    },
    {
      "cell_type": "code",
      "source": [
        "# objects like num_experiment, n and p in Python are called \"variables\". Variables need to be initialised to some values.\n",
        "num_experiment = 100\n",
        "n = 2\n",
        "p = 0.5\n",
        "\n",
        "# define a bernoulli random variables. This is not a variable, but Python calls it \"object\" (it is not initialised, because of the nature of a r.v.)\n",
        "# to see its documentation, go here https://docs.scipy.org/doc/scipy/reference/generated/scipy.stats.bernoulli.html\n",
        "X = stats.bernoulli(.5)"
      ],
      "metadata": {
        "id": "Fetmaej21eBG"
      },
      "execution_count": 19,
      "outputs": []
    },
    {
      "cell_type": "code",
      "source": [
        "# Objects have the possibility of producing some outputs (for example, in this case we could produce a sample from it, or its expected value...):\n",
        "# these things are produced through \"methods\" that are associated to the object (all the methods are listed in the documentation linked in the previous lines!)\n",
        "# for example:\n",
        "# sample n iid values from a random variable X:\n",
        "x = X.rvs(n) # .rvs is a method associated to the random variable object. Note that x is a variable with a fixed value!\n",
        "x"
      ],
      "metadata": {
        "colab": {
          "base_uri": "https://localhost:8080/"
        },
        "id": "K-qCYLDMpS_2",
        "outputId": "51fbc87b-0585-4890-a272-67a92c6602c5"
      },
      "execution_count": 20,
      "outputs": [
        {
          "output_type": "execute_result",
          "data": {
            "text/plain": [
              "array([1, 1])"
            ]
          },
          "metadata": {},
          "execution_count": 20
        }
      ]
    },
    {
      "cell_type": "code",
      "source": [
        "# check if both of them are girls (for conveniency we assume 1 means Girl and 0 Boy)\n",
        "two_girls = (sum(x) == 2) # equivalent to (np.sum(x) == 2)\n",
        "# two_girls is a boolean, i.e. a variable taking value True or False\n",
        "print(two_girls)\n",
        "# alternatively, we can transform a boolean to an integer using the function int()\n",
        "print(int(two_girls))"
      ],
      "metadata": {
        "colab": {
          "base_uri": "https://localhost:8080/"
        },
        "id": "EiFZ8W-4ntz0",
        "outputId": "6c9c9d9c-84ab-4dda-db62-7e57f73fefac"
      },
      "execution_count": 23,
      "outputs": [
        {
          "output_type": "stream",
          "name": "stdout",
          "text": [
            "True\n",
            "1\n"
          ]
        }
      ]
    },
    {
      "cell_type": "code",
      "source": [
        "# we can treat a boolean value as a 0 or 1 integer and perform operations\n",
        "print(two_girls + 1)\n",
        "print(int(two_girls) + 1)"
      ],
      "metadata": {
        "colab": {
          "base_uri": "https://localhost:8080/"
        },
        "id": "M_vDW7GAolTT",
        "outputId": "40eff9e4-c36a-4bb0-a197-f78d580b98c6"
      },
      "execution_count": 24,
      "outputs": [
        {
          "output_type": "stream",
          "name": "stdout",
          "text": [
            "2\n",
            "2\n"
          ]
        }
      ]
    },
    {
      "cell_type": "markdown",
      "source": [
        "## a) probability that both are girls given that the eldest is a girl\n",
        "The result can be computed using the conditional probability def. Setting $G_i=$ {kid i is a girl}:\n",
        "\n",
        "$P(G_1 \\cap G_2 | G_1) = P(G_2 | G_1) = P(G_1 \\cap G_2) / P(G_1)$\n",
        "\n",
        "so we will compute the empirical values of the two probabilities in the right hand side."
      ],
      "metadata": {
        "id": "bcWLUpW5qi1j"
      }
    },
    {
      "cell_type": "code",
      "source": [
        "# let's run the experiment. The idea is similar to last week!\n",
        "count_2girls = 0\n",
        "count_firstgirl = 0\n",
        "for i in range(num_experiment):\n",
        "  x = X.rvs(n) # sample\n",
        "  is_two_girls = (sum(x) == 2) # check if the kids are both girls\n",
        "  count_2girls = count_2girls + is_two_girls\n",
        "  is_first_girl = (x[0] == 1) # check if first kid is a girl\n",
        "  count_firstgirl = count_firstgirl + is_first_girl"
      ],
      "metadata": {
        "id": "u3-r2j6WpGrj"
      },
      "execution_count": 25,
      "outputs": []
    },
    {
      "cell_type": "code",
      "source": [
        "empirical_result = ( count_2girls / num_experiment ) / ( count_firstgirl / num_experiment)\n",
        "theoretical_result = 1/2\n",
        "\n",
        "print('empirical result', empirical_result)\n",
        "print('theoretical result', theoretical_result)\n",
        "print('difference theory and empirical: ', empirical_result - theoretical_result)"
      ],
      "metadata": {
        "colab": {
          "base_uri": "https://localhost:8080/"
        },
        "id": "tBS3b6HypQbG",
        "outputId": "38e9cd42-2c2c-4f7e-cf2d-5c6ce6bbfa4a"
      },
      "execution_count": 26,
      "outputs": [
        {
          "output_type": "stream",
          "name": "stdout",
          "text": [
            "empirical result 0.46938775510204084\n",
            "theoretical result 0.5\n",
            "difference theory and empirical:  -0.030612244897959162\n"
          ]
        }
      ]
    },
    {
      "cell_type": "markdown",
      "source": [
        "## b) probability that both are girls given that at least one is a girl\n",
        "Do this on your own, before looking at the solution."
      ],
      "metadata": {
        "id": "rgX6BjHUqoTU"
      }
    },
    {
      "cell_type": "code",
      "source": [
        "count_2girls = 0\n",
        "count_atleastonegirl = 0\n",
        "for i in range(num_experiment):\n",
        "  x = X.rvs(n)\n",
        "  count_2girls = count_2girls + (sum(x) == 2)\n",
        "  count_atleastonegirl = count_atleastonegirl + (sum(x) >= 1)\n",
        "\n",
        "empirical_result = ( count_2girls / num_experiment ) / ( count_atleastonegirl / num_experiment)\n",
        "theoretical_result = 1/3\n",
        "\n",
        "print('empirical result', empirical_result)\n",
        "print('theoretical result', theoretical_result)\n",
        "print('difference theory and empirical: ', empirical_result - theoretical_result)"
      ],
      "metadata": {
        "colab": {
          "base_uri": "https://localhost:8080/"
        },
        "id": "sfq99yRDaLx6",
        "outputId": "08b22d57-14ed-43fd-f935-5848a40ad6d3"
      },
      "execution_count": 27,
      "outputs": [
        {
          "output_type": "stream",
          "name": "stdout",
          "text": [
            "empirical result 0.28571428571428575\n",
            "theoretical result 0.3333333333333333\n",
            "difference theory and empirical:  -0.04761904761904756\n"
          ]
        }
      ]
    }
  ]
}
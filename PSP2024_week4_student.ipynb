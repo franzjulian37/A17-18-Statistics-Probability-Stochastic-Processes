{
  "nbformat": 4,
  "nbformat_minor": 0,
  "metadata": {
    "colab": {
      "provenance": []
    },
    "kernelspec": {
      "name": "python3",
      "display_name": "Python 3"
    },
    "language_info": {
      "name": "python"
    }
  },
  "cells": [
    {
      "cell_type": "code",
      "execution_count": null,
      "metadata": {
        "id": "-gQgufSwJwhk"
      },
      "outputs": [],
      "source": [
        "import math # math is used to perform some computations like factorial or binomial coefficient\n",
        "from scipy import stats  # library for stats stuff, for example random variables\n",
        "import numpy as np # package for scientific computing (dealing with arrays)\n",
        "import matplotlib.pyplot as plt # to plot"
      ]
    },
    {
      "cell_type": "markdown",
      "source": [
        "# 3) Minimum and maximum of a set of iid random variables\n",
        "Let $X_1,\\dots,X_n$ be independent discrete uniform random variables on $\\{1,\\dots,N\\}$.\n",
        "\n",
        "a) Find the pmf of $\\min(X_1,\\dots,X_n)$\n",
        "\n",
        "b) Find the pmf of $\\max(X_1,\\dots,X_n)$"
      ],
      "metadata": {
        "id": "sAb_aIi41u5E"
      }
    },
    {
      "cell_type": "code",
      "source": [
        "n = 20\n",
        "N = 10\n",
        "num_experiment = 100\n",
        "\n",
        "X =  # discrete uniform distribution"
      ],
      "metadata": {
        "id": "9eyR-KF2J7gH"
      },
      "execution_count": null,
      "outputs": []
    },
    {
      "cell_type": "code",
      "source": [
        "# we need to save the empirical pdf of the minimum, so we initialise a vector of suitable size to store the counts we will generate\n",
        "count_min =\n",
        "\n",
        "for i in range(num_experiment):\n",
        "  x = X.rvs(n) # sample from the rv\n",
        "  k =  # compute the minimum of th\n",
        "  count_min[]  # increment of 1 count_min in the required position"
      ],
      "metadata": {
        "id": "K_vc5zkhKSk4"
      },
      "execution_count": null,
      "outputs": []
    },
    {
      "cell_type": "code",
      "source": [
        "empirical_pdf =\n",
        "print('empirical', empirical_pdf)\n",
        "\n",
        "theoretical_pdf = np.zeros(N)\n",
        "for k in range(1, N+1):\n",
        "  theoretical_pdf[k-1] = ((N-k+1)**n - (N-k)**n) / (N**n)\n",
        "print('theory', theoretical_pdf)\n",
        "\n",
        "print('absolute difference of the empirical and theoretical pmf', np.sum(np.abs(empirical_pdf - theoretical_pdf)))"
      ],
      "metadata": {
        "id": "PkgA55kbKp74"
      },
      "execution_count": null,
      "outputs": []
    },
    {
      "cell_type": "markdown",
      "source": [
        "### Our first plot in python: bar plot\n",
        "\n",
        "Printing the vectors is not so clear, so we will use a visual way to check the difference between the empirical and the theoretical pmf.\n",
        "\n",
        "The bar plot in Python (https://matplotlib.org/stable/api/_as_gen/matplotlib.pyplot.bar.html#matplotlib.pyplot.bar) is a possible visualisation tool.\n",
        "To use it, you need to `import matplotlib.pyplot as plt` and then call `plt.bar(x, y)` with `x,y` the desired values. Other arguments that go into the function are `alpha` which specifies the degree of transparency (between 0 and 1, by default 1) and `label` if we want to identify the two bar plots with a different label (since we do define the bar plots one after the other, python automatically chooses diffent colours. If we want to specify another colour, we can do so with the argument `color`). If we specify a label, we need to call `plt.legend()` so that the legend shows on the plot. Finally, we use `plt.show()` to make the plot appear."
      ],
      "metadata": {
        "id": "6bMCjnVSRzkN"
      }
    },
    {
      "cell_type": "code",
      "source": [
        "plt.bar()\n",
        "# np.arange(1, N+1) is the pythonic way of definying a vector of natural numbers from 1 to N\n",
        "# we want to specify alpha<1 otherwise we would not distinguish the two colors.\n",
        "plt.bar()\n",
        "plt.xlabel('x')\n",
        "plt.ylabel('$p_X(x)$') # the $ $ specifies that you are writing in a formula accoring to the latex syntax\n",
        "plt.legend()\n",
        "plt.show()"
      ],
      "metadata": {
        "id": "ebhDHuV7_iRm"
      },
      "execution_count": null,
      "outputs": []
    },
    {
      "cell_type": "code",
      "source": [
        "# same but for the maximum\n",
        "\n",
        "count_max = np.zeros(N)\n",
        "\n",
        "for i in range(num_experiment):\n",
        "  x = X.rvs(n)\n",
        "  k = np.max(x)\n",
        "  count_max[k-1] += 1"
      ],
      "metadata": {
        "id": "KBK1ziJ03Ef0"
      },
      "execution_count": null,
      "outputs": []
    },
    {
      "cell_type": "code",
      "source": [
        "empirical_pdf = count_max/num_experiment\n",
        "print('empirical', empirical_pdf)\n",
        "\n",
        "theoretical_pdf = np.zeros(N)\n",
        "for k in range(1, N+1):\n",
        "  theoretical_pdf[k-1] = (k/N)**n - ((k-1)/N)**n\n",
        "print('theory', theoretical_pdf)\n",
        "\n",
        "print('absolute difference of the empirical and theoretical pmf', np.sum(np.abs(empirical_pdf - theoretical_pdf)))"
      ],
      "metadata": {
        "id": "PJbsj9rtK4TR"
      },
      "execution_count": null,
      "outputs": []
    },
    {
      "cell_type": "code",
      "source": [
        "plt.bar(np.arange(1, N+1), empirical_pdf, alpha=0.5, label='empirical')\n",
        "plt.bar(np.arange(1, N+1), theoretical_pdf, alpha=0.5, label='theoretical')\n",
        "plt.legend()\n",
        "plt.xlabel('x')\n",
        "plt.ylabel('$p_X(x)$') # the $ $ specifies that you are writing in a formula accoring to the latex syntax\n",
        "plt.show()"
      ],
      "metadata": {
        "id": "BrQjT5EMC-U5"
      },
      "execution_count": null,
      "outputs": []
    },
    {
      "cell_type": "markdown",
      "source": [
        "# 4) Independence of random variables computing joint pmf and marginals\n",
        "You have a coin with probability $p$ of showing H. You flip the coin a random number $N$ of times, where $N\\sim Pois(\\lambda)$ and is independent of the outcome of the flips. Find the distribution of $X$ number of H and $Y$ number of T and show that $X,Y$ are independent."
      ],
      "metadata": {
        "id": "SbQRE2u13UAu"
      }
    },
    {
      "cell_type": "code",
      "source": [
        "num_experiment = 10000\n",
        "p = 0.4\n",
        "l = 5\n",
        "# if I need to store the joint pmf I need a matrix instead of a vector. The issue is that a prior I don't know which values\n",
        "# X and Y can take, so for now the (imperfect) solution that we will take is to define a matrix bigger than what we might empirically observe\n",
        "# (how big depends on the parameter of the Poisson)\n",
        "max_n = 50\n",
        "count_XY = np.zeros((max_n, max_n))\n",
        "count_X = np.zeros(max_n) # we use the same size for the marginals of X and Y, which will be vectors\n",
        "count_Y = np.zeros(max_n)\n",
        "\n",
        "N =  # number of tosses are poisson distributed\n",
        "for i in range(num_experiment):\n",
        "  # simulate the experiment and save the joint and marginal counts\n",
        "\n",
        "# let's transform counts into probabilities\n",
        "p_XY =\n",
        "p_X =\n",
        "p_Y =\n",
        "\n",
        "# to verify that p_XY factorises in p_X * p_Y we need to compute the outer product of the marginals. In python, this is done with np.outer( , )\n",
        "p_Xp_Y = np.outer(p_X, p_Y)\n",
        "# you can verify that the shape of the result is the desired one (max_n, max_n):\n",
        "print(p_Xp_Y.shape)"
      ],
      "metadata": {
        "id": "z_Cv36eh30Ks"
      },
      "execution_count": null,
      "outputs": []
    },
    {
      "cell_type": "code",
      "source": [
        "# let's see if the absolute distance of the distributions is small enough\n",
        "np.sum(np.abs(p_XY - p_Xp_Y)) # the difference between matrices is computed element wise, then we apply the absolute value to all the elements,\n",
        "# and finally we sum all the elements to obtain a scalar number"
      ],
      "metadata": {
        "id": "K_xri31R5jw1"
      },
      "execution_count": null,
      "outputs": []
    },
    {
      "cell_type": "markdown",
      "source": [
        "How could you represent with a plot the joint and marginals?"
      ],
      "metadata": {
        "id": "w4pTV-FyT4xn"
      }
    }
  ]
}
{
 "cells": [
  {
   "cell_type": "code",
   "execution_count": 2,
   "metadata": {},
   "outputs": [],
   "source": [
    "import numpy as np\n",
    "import matplotlib.pyplot as plt\n",
    "from scipy import stats\n",
    "import pandas as pd"
   ]
  },
  {
   "cell_type": "markdown",
   "metadata": {},
   "source": [
    "# Probability and Stochastic Processes 2024-25: **Problem Set 2**\n",
    "\n",
    "Provide a solution to the following exercises.\n",
    "\n",
    "Some rules:\n",
    "\n",
    "- You should **use the libraries that we have seen** during our tutorials.\n",
    "\n",
    "- You might need some formulas (theorems, definitions, properties...) coming from our lectures. Whenever your solution is backed up by a formula, write a comment citing it.\n",
    "\n",
    "- **Comment** the code explaining the passages that you followed using the # command in the code cell. Code comments are for short explanations. If you want to write a \"text-heavy\" answer, then I suggest you use a markdown cell.\n",
    "\n",
    "- The output of your code should solely be the answers to the questions (this means that you should not print extra things or plots). In general, **be tidy**!\n",
    "\n",
    "- Before you submit the notebook, be sure to **compile it** (i.e., you should run all the code before downloading your notebook, so that I can see your output and do not have to re-run it).\n",
    "\n",
    "- You cannot hand-in the exact same solutions of a classmate of yours, or directly copy and paste from an AI. The PS is individual, so you need to put your own work in there."
   ]
  },
  {
   "cell_type": "markdown",
   "metadata": {},
   "source": [
    "# 1 - Convergence of random variables"
   ]
  },
  {
   "cell_type": "markdown",
   "metadata": {},
   "source": [
    "Since you are now a keen probabilist, you want to test your understanding of convergence of random variables. Consider the vector $(X_n, Y)$ whose joint pdf is\n",
    "$$f(x, y) =  n e^{-y}\\qquad\\text{ for }y\\in\\mathbb{R}_+, x\\in\\left(y, y+\\frac{1}{n}\\right)$$\n",
    "\n",
    "1. Design an experiment to understand if $X_n$ converges to $Y$ in probability and in mean square. Consider values of $n$ which range from 1 to 200. For the convergence in probability, check for values of $\\epsilon = 10^{-1}, 10^{-2}, 10^{-3}$. The output of this exeperiment should be 4 graphs (one for mean square and three for probability) where the $x$ axis represents $n$, and the $y$ axis represents the respective convergence measure. Do you think $X_n$ converge to $Y$ in probability and in mean square (comment briefly, no need to prove it theorethically - unless you want to try)? [max 5 points]\n",
    "\n",
    "2. What can you say about convergence in distribution? No need to code/plot anything, just answer theoretically. [2]\n",
    "\n",
    "3. Fix a value of $n$ (we can call it $n^*$) and consider $X = X_{n^*}$. Design an experiment that allows you to plot the empirical density of:\n",
    "    \n",
    "    - $\\sum_{i=1}^{1000} X_i$, where $X_i$ are iid copies of $X$\n",
    "\n",
    "    - $\\sum_{i=1}^{10} X_i$, where $X_i$ are iid copies of $X$\n",
    "\n",
    "    What can you say about the difference of these two distributions? Comment briefly. [2]"
   ]
  },
  {
   "cell_type": "markdown",
   "metadata": {},
   "source": [
    "# 2 - S&P Credit ratings"
   ]
  },
  {
   "cell_type": "markdown",
   "metadata": {},
   "source": [
    "Each year, Standard and Poor’s (S&P) publishes the matrix of transition probabilities of credit ratings over the different markets (they actually do: https://www.spglobal.com/ratings/en/research/articles/240328-default-transition-and-recovery-2023-annual-global-corporate-default-and-rating-transition-study-13047827). Load the three matrices representing the estimated transition probabilities for 2023 of the European Union, United States and emerging and frontier markets. The first 7 columns are the different ratings, while \"D\" means default and \"NR\" not rated.\n",
    "\n",
    "1. How many classes are in each chain, and are they closed? Are there absorbing states? [3]\n",
    "\n",
    "2. What is the probability that an agency rated BBB defaults in the incoming 3 years, for each of the three different markets? [3]\n",
    "\n",
    "3. Assume homogeneity of the model, that no new agency is rated and that the agencies are uniformly distributed at the start. In 10 and 30 years, which percentage of the agencies in each market will be classified with a category higher than or equal to A? And which percentage will be defaulting? [3]"
   ]
  },
  {
   "cell_type": "markdown",
   "metadata": {},
   "source": [
    "# 3 - Card shuffling\n",
    "You have a deck of 52 cards and want to shuffle them well. You mathe-magician friend has told you that a decent method of shuffling would be, at each iteration of the shuffling, to pick the top card of the deck and place it in one of the 52 positions of the deck uniformly at random.\n",
    "\n",
    "1. Shuffling this deck of cards can be modeled as a stochastic process. What is the state space of the process, and its cardinality? Is it Markovian? [1]\n",
    "\n",
    "2. On average, how many times do you have to shuffle the deck to get the original bottom card (i.e. the card that was at the bettom before you started shuffling) to come to the top? (answer running simulations) [4]\n",
    "\n",
    "3. Let us now focus on the top card (similarly, we are talking about the card at the top of the deck before this is shuffled). What is the distribution of the position of this card, after the bottom card has reached the top? Plot its empirical probability mass function after running some simulations. [2]\n",
    "\n",
    "4. Your friend has told you that a good way to get the deck shuffled is to keep track of when the original bottom card of the deck ends up at the top of the shuffled deck. Once this happens, you shuffle once more according to the rule, and then you stop. Are they telling the truth? (do not run any simulations, answer with text) [2]"
   ]
  },
  {
   "cell_type": "markdown",
   "metadata": {},
   "source": [
    "# 4 - Explain one of your answers\n",
    "\n",
    "Now, pick one of the 3 questions. Record a video where you explain the solution you gave to that question. The video should be at least 3 minutes long, but not more than 5 minutes.\n",
    "\n",
    "A good video should explain well how the code works. To have an idea, think about the questions that I asked you during the oral of the previous problem set and try to touch on the most important details of the code (for example, try to specify if the output of a line is a scalar or vector, and what dimension it has). \n",
    "\n",
    "If there are a lot of repetitions in your code, please skip over them. \n",
    "\n",
    "If your code is extremely long, it's better to cut the video without having finished the description of the code, rather than extend it over 5 minutes. Of course there is a trade-off between the details that you can touch on and the length of the video, and this is an important skill to acquire :)\n",
    "\n",
    "Do not explain the theoretical answers and do not justify the theory behind the code, since for that you will have written comments along the code.\n",
    "\n",
    "This exercise is awarded a maximum of 5 points."
   ]
  },
  {
   "cell_type": "markdown",
   "metadata": {},
   "source": [
    "Once you have recorded it and place it on the cloud (for example the Zoom cloud or Google Drive), copy and paste here the link and password (if necessary) to the video.\n",
    "\n",
    "- Link:\n",
    "\n",
    "- Password: "
   ]
  }
 ],
 "metadata": {
  "kernelspec": {
   "display_name": "Python 3",
   "language": "python",
   "name": "python3"
  },
  "language_info": {
   "codemirror_mode": {
    "name": "ipython",
    "version": 3
   },
   "file_extension": ".py",
   "mimetype": "text/x-python",
   "name": "python",
   "nbconvert_exporter": "python",
   "pygments_lexer": "ipython3",
   "version": "3.9.6"
  }
 },
 "nbformat": 4,
 "nbformat_minor": 2
}

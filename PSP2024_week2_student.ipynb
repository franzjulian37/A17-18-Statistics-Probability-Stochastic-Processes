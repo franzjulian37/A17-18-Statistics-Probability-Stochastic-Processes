{
  "nbformat": 4,
  "nbformat_minor": 0,
  "metadata": {
    "colab": {
      "provenance": []
    },
    "kernelspec": {
      "name": "python3",
      "display_name": "Python 3"
    },
    "language_info": {
      "name": "python"
    }
  },
  "cells": [
    {
      "cell_type": "code",
      "execution_count": null,
      "metadata": {
        "id": "OTmxAwbVX7S1"
      },
      "outputs": [],
      "source": [
        "import math # math is used to perform some computations like factorial or binomial coefficient\n",
        "from scipy import stats  # library for stats stuff, for example random variables\n",
        "import numpy as np # package for scientific computing (dealing with arrays)"
      ]
    },
    {
      "cell_type": "markdown",
      "source": [
        "# Exercise\n",
        "Assume that each child who is born is equally likely to be a boy or girl. If a family has two children:\n",
        "\n",
        "(a) what is the probability that both are girls given that the eldest is a girl?\n",
        "\n",
        "(b) what is the probability that both are girls given that at least one is a girl?"
      ],
      "metadata": {
        "id": "u_zM4PiVnG84"
      }
    },
    {
      "cell_type": "markdown",
      "source": [
        "Set up:\n",
        "- `num_experiment`: number of experiments,\n",
        "- `n`: number of sons/daughters (this can be alternatevely thought of as coin tosses)\n",
        "- `p`: probability of having a girl or a boy\n",
        "- `X`: Bernoulli(p)"
      ],
      "metadata": {
        "id": "Wn3i1YXNl_XA"
      }
    },
    {
      "cell_type": "code",
      "source": [
        "# objects like num_experiment, n and p in Python are called \"variables\". Variables need to be initialised to some values.\n",
        "num_experiment =\n",
        "n =\n",
        "p =\n",
        "\n",
        "# define a bernoulli random variables. This is not a variable, but Python calls it \"object\" (it is not initialised, because of the nature of a r.v.)\n",
        "X ="
      ],
      "metadata": {
        "id": "Fetmaej21eBG"
      },
      "execution_count": null,
      "outputs": []
    },
    {
      "cell_type": "code",
      "source": [
        "# Objects have the possibility of producing some outputs (for example, in this case we could produce a sample from it, or its expected value...):\n",
        "# these things are produced through \"methods\" that are associated to the object\n",
        "# for example:\n",
        "# sample n iid values from a random variable X:\n",
        "x =  # .rvs is a method associated to the random variable object. Note that x is a variable with a fixed value!\n",
        "x"
      ],
      "metadata": {
        "id": "K-qCYLDMpS_2"
      },
      "execution_count": null,
      "outputs": []
    },
    {
      "cell_type": "code",
      "source": [
        "# check if both of them are girls (for conveniency we assume 1 means Girl and 0 Boy)\n",
        "two_girls =  # equivalent to (np.sum(x) == 2)\n",
        "# two_girls is a boolean, i.e. a variable taking value True or False\n",
        "print(two_girls)\n",
        "# alternatively, we can transform a boolean to an integer using the function int()\n",
        "print(int(two_girls))"
      ],
      "metadata": {
        "id": "EiFZ8W-4ntz0"
      },
      "execution_count": null,
      "outputs": []
    },
    {
      "cell_type": "code",
      "source": [
        "# we can treat a boolean value as a 0 or 1 integer and perform operations\n",
        "print(two_girls + 1)\n",
        "print(int(two_girls) + 1)"
      ],
      "metadata": {
        "id": "M_vDW7GAolTT"
      },
      "execution_count": null,
      "outputs": []
    },
    {
      "cell_type": "markdown",
      "source": [
        "## a) probability that both are girls given that the eldest is a girl"
      ],
      "metadata": {
        "id": "bcWLUpW5qi1j"
      }
    },
    {
      "cell_type": "code",
      "source": [
        "# let's run the experiment. The idea is similar to last week!\n",
        "count_2girls =\n",
        "count_firstgirl =\n",
        "for i in"
      ],
      "metadata": {
        "id": "u3-r2j6WpGrj"
      },
      "execution_count": null,
      "outputs": []
    },
    {
      "cell_type": "code",
      "source": [
        "# the result is given by the conditional probability formula: probability of the intersection divided by probability of the conditional event\n",
        "empirical_result =\n",
        "\n",
        "theoretical_result =\n",
        "\n",
        "print('empirical result', empirical_result)\n",
        "print('theoretical result', theoretical_result)\n",
        "print('difference theory and empirical: ', empirical_result - theoretical_result)"
      ],
      "metadata": {
        "id": "tBS3b6HypQbG"
      },
      "execution_count": null,
      "outputs": []
    },
    {
      "cell_type": "markdown",
      "source": [
        "## b) probability that both are girls given that at least one is a girl\n",
        "Solve this by yourself"
      ],
      "metadata": {
        "id": "rgX6BjHUqoTU"
      }
    },
    {
      "cell_type": "code",
      "source": [],
      "metadata": {
        "id": "sfq99yRDaLx6"
      },
      "execution_count": null,
      "outputs": []
    }
  ]
}